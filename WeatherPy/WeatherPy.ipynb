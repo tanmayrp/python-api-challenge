{
 "cells": [
  {
   "cell_type": "markdown",
   "metadata": {},
   "source": [
    "# WeatherPy\n",
    "----\n",
    "\n",
    "#### Note\n",
    "* Instructions have been included for each segment. You do not have to follow them exactly, but they are included to help you think through the steps."
   ]
  },
  {
   "cell_type": "code",
   "execution_count": 1,
   "metadata": {
    "scrolled": true
   },
   "outputs": [],
   "source": [
    "# Dependencies and Setup\n",
    "import matplotlib.pyplot as plt\n",
    "import pandas as pd\n",
    "import numpy as np\n",
    "import requests\n",
    "import time\n",
    "import scipy.stats as st\n",
    "from scipy.stats import linregress\n",
    "\n",
    "# Import API key\n",
    "from config import weather_api_key\n",
    "\n",
    "# Incorporated citipy to determine city based on latitude and longitude\n",
    "from citipy import citipy\n",
    "\n",
    "# Output File (CSV)\n",
    "output_data_file = \"output_data/cities.csv\"\n",
    "\n",
    "# Range of latitudes and longitudes\n",
    "lat_range = (-90, 90)\n",
    "lng_range = (-180, 180)"
   ]
  },
  {
   "cell_type": "markdown",
   "metadata": {},
   "source": [
    "## Generate Cities List"
   ]
  },
  {
   "cell_type": "code",
   "execution_count": 2,
   "metadata": {},
   "outputs": [
    {
     "data": {
      "text/plain": [
       "632"
      ]
     },
     "execution_count": 2,
     "metadata": {},
     "output_type": "execute_result"
    }
   ],
   "source": [
    "# List for holding lat_lngs and cities\n",
    "lat_lngs = []\n",
    "cities = []\n",
    "\n",
    "# Create a set of random lat and lng combinations\n",
    "lats = np.random.uniform(lat_range[0], lat_range[1], size=1500)\n",
    "lngs = np.random.uniform(lng_range[0], lng_range[1], size=1500)\n",
    "lat_lngs = zip(lats, lngs)\n",
    "\n",
    "# Identify nearest city for each lat, lng combination\n",
    "for lat_lng in lat_lngs:\n",
    "    city = citipy.nearest_city(lat_lng[0], lat_lng[1]).city_name\n",
    "    \n",
    "    # If the city is unique, then add it to a our cities list\n",
    "    if city not in cities:\n",
    "        cities.append(city)\n",
    "\n",
    "# Print the city count to confirm sufficient count\n",
    "len(cities)"
   ]
  },
  {
   "cell_type": "markdown",
   "metadata": {},
   "source": [
    "### Perform API Calls\n",
    "* Perform a weather check on each city using a series of successive API calls.\n",
    "* Include a print log of each city as it'sbeing processed (with the city number and city name).\n"
   ]
  },
  {
   "cell_type": "code",
   "execution_count": 3,
   "metadata": {
    "scrolled": true
   },
   "outputs": [
    {
     "name": "stdout",
     "output_type": "stream",
     "text": [
      "Beginning Data Retrieval\n",
      "-----------------------------\n",
      "Processing Record 1 | carbonia\n",
      "Processing Record 2 | ushuaia\n",
      "Processing Record 3 | qaanaaq\n",
      "Processing Record 4 | sechura\n",
      "City (illoqqortoormiut) not found. Skipping...\n",
      "Processing Record 5 | cape town\n",
      "Processing Record 6 | georgetown\n",
      "Processing Record 7 | rikitea\n",
      "Processing Record 8 | menongue\n",
      "Processing Record 9 | amroli\n",
      "Processing Record 10 | flinders\n",
      "Processing Record 11 | kloulklubed\n",
      "Processing Record 12 | darab\n",
      "Processing Record 13 | mataura\n",
      "Processing Record 14 | mwinilunga\n",
      "Processing Record 15 | saskylakh\n",
      "Processing Record 16 | ode\n",
      "Processing Record 17 | avarua\n",
      "Processing Record 18 | portland\n",
      "Processing Record 19 | doha\n",
      "Processing Record 20 | atuona\n",
      "Processing Record 21 | port alfred\n",
      "Processing Record 22 | joensuu\n",
      "Processing Record 23 | kieta\n",
      "City (amderma) not found. Skipping...\n",
      "Processing Record 24 | puerto ayora\n",
      "City (rungata) not found. Skipping...\n",
      "Processing Record 25 | albany\n",
      "City (palabuhanratu) not found. Skipping...\n",
      "Processing Record 26 | torbay\n",
      "Processing Record 27 | chokurdakh\n",
      "Processing Record 28 | hilo\n",
      "Processing Record 29 | punta arenas\n",
      "Processing Record 30 | kavieng\n",
      "Processing Record 31 | jaciara\n",
      "Processing Record 32 | huntington\n",
      "Processing Record 33 | kulhudhuffushi\n",
      "Processing Record 34 | york\n",
      "Processing Record 35 | esfahan\n",
      "Processing Record 36 | sambava\n",
      "Processing Record 37 | bluff\n",
      "Processing Record 38 | kudahuvadhoo\n",
      "Processing Record 39 | asau\n",
      "Processing Record 40 | busselton\n",
      "Processing Record 41 | altamont\n",
      "Processing Record 42 | east london\n",
      "Processing Record 43 | yellowknife\n",
      "City (sinkat) not found. Skipping...\n",
      "Processing Record 44 | nurobod\n",
      "City (barentsburg) not found. Skipping...\n",
      "Processing Record 45 | riyadh\n",
      "Processing Record 46 | dostpur\n",
      "Processing Record 47 | metro\n",
      "City (satitoa) not found. Skipping...\n",
      "Processing Record 48 | victoria\n",
      "Processing Record 49 | upernavik\n",
      "Processing Record 50 | tasiilaq\n",
      "Processing Record 51 | souillac\n",
      "Processing Record 52 | pangnirtung\n",
      "Processing Record 53 | hermanus\n",
      "Processing Record 54 | mandera\n",
      "Processing Record 55 | nichinan\n",
      "Processing Record 56 | bucerias\n",
      "City (tsihombe) not found. Skipping...\n",
      "Processing Record 57 | talnakh\n",
      "Processing Record 58 | new norfolk\n",
      "Processing Record 59 | kavaratti\n",
      "Processing Record 60 | moroni\n",
      "Processing Record 61 | tupiza\n",
      "Processing Record 62 | beyla\n",
      "Processing Record 63 | isangel\n",
      "Processing Record 64 | bambous virieux\n",
      "Processing Record 65 | korla\n",
      "Processing Record 66 | kichmengskiy gorodok\n",
      "Processing Record 67 | thompson\n",
      "City (taolanaro) not found. Skipping...\n",
      "Processing Record 68 | fayaoue\n",
      "Processing Record 69 | kempten\n",
      "Processing Record 70 | terney\n",
      "Processing Record 71 | akyab\n",
      "Processing Record 72 | ostrovnoy\n",
      "Processing Record 73 | port elizabeth\n",
      "Processing Record 74 | plastun\n",
      "Processing Record 75 | bredasdorp\n",
      "Processing Record 76 | saldanha\n",
      "Processing Record 77 | awjilah\n",
      "City (viligili) not found. Skipping...\n",
      "Processing Record 78 | vila velha\n",
      "Processing Record 79 | klaksvik\n",
      "Processing Record 80 | faanui\n",
      "Processing Record 81 | los llanos de aridane\n",
      "Processing Record 82 | mar del plata\n",
      "Processing Record 83 | jumla\n",
      "City (kegayli) not found. Skipping...\n",
      "Processing Record 84 | hithadhoo\n",
      "Processing Record 85 | guerrero negro\n",
      "Processing Record 86 | rio brilhante\n",
      "Processing Record 87 | dawson creek\n",
      "Processing Record 88 | dengzhou\n",
      "Processing Record 89 | zhigansk\n",
      "Processing Record 90 | balikpapan\n",
      "Processing Record 91 | santa rosa\n",
      "Processing Record 92 | placido de castro\n",
      "Processing Record 93 | alenquer\n",
      "Processing Record 94 | altamira\n",
      "Processing Record 95 | ahuimanu\n",
      "Processing Record 96 | provideniya\n",
      "Processing Record 97 | khatanga\n",
      "Processing Record 98 | arraial do cabo\n",
      "Processing Record 99 | noumea\n",
      "Processing Record 100 | emba\n",
      "City (tumannyy) not found. Skipping...\n",
      "Processing Record 101 | hidalgotitlan\n",
      "Processing Record 102 | hokitika\n",
      "Processing Record 103 | krasnogorsk\n",
      "Processing Record 104 | kapaa\n",
      "Processing Record 105 | padang\n",
      "Processing Record 106 | hobart\n",
      "Processing Record 107 | belem\n",
      "Processing Record 108 | lompoc\n",
      "Processing Record 109 | aklavik\n",
      "Processing Record 110 | carnarvon\n",
      "Processing Record 111 | pisco\n",
      "City (belushya guba) not found. Skipping...\n",
      "City (louisbourg) not found. Skipping...\n",
      "Processing Record 112 | vaini\n",
      "Processing Record 113 | tanete\n",
      "Processing Record 114 | tura\n",
      "Processing Record 115 | yar-sale\n",
      "Processing Record 116 | jardim\n",
      "Processing Record 117 | husavik\n",
      "Processing Record 118 | jasper\n",
      "Processing Record 119 | butaritari\n",
      "Processing Record 120 | tuatapere\n",
      "Processing Record 121 | brazzaville\n",
      "Processing Record 122 | dikson\n",
      "Processing Record 123 | tondi\n",
      "Processing Record 124 | kodiak\n",
      "Processing Record 125 | longyearbyen\n",
      "Processing Record 126 | samana\n",
      "Processing Record 127 | kysyl-syr\n",
      "Processing Record 128 | codrington\n",
      "Processing Record 129 | srednekolymsk\n",
      "Processing Record 130 | saint-philippe\n",
      "Processing Record 131 | bathsheba\n",
      "Processing Record 132 | timbiqui\n",
      "Processing Record 133 | vestmannaeyjar\n",
      "Processing Record 134 | nikolskoye\n",
      "Processing Record 135 | eureka\n",
      "Processing Record 136 | half moon bay\n",
      "Processing Record 137 | karasburg\n",
      "City (nizhneyansk) not found. Skipping...\n",
      "Processing Record 138 | sao joao da barra\n",
      "Processing Record 139 | anito\n",
      "Processing Record 140 | margate\n",
      "Processing Record 141 | barrow\n",
      "Processing Record 142 | sioux lookout\n",
      "Processing Record 143 | olafsvik\n",
      "Processing Record 144 | ribeira grande\n",
      "Processing Record 145 | port blair\n",
      "Processing Record 146 | zilupe\n",
      "Processing Record 147 | marsh harbour\n",
      "Processing Record 148 | stromness\n",
      "Processing Record 149 | pyshchug\n",
      "Processing Record 150 | alofi\n",
      "Processing Record 151 | palmer\n",
      "Processing Record 152 | naze\n",
      "Processing Record 153 | miguel hidalgo\n",
      "Processing Record 154 | tabou\n",
      "Processing Record 155 | tommot\n",
      "Processing Record 156 | ponta do sol\n",
      "Processing Record 157 | saint george\n",
      "Processing Record 158 | heide\n",
      "City (saleaula) not found. Skipping...\n",
      "Processing Record 159 | skibbereen\n",
      "Processing Record 160 | moranbah\n",
      "Processing Record 161 | kalmunai\n",
      "Processing Record 162 | pecos\n",
      "Processing Record 163 | tiksi\n",
      "Processing Record 164 | lazaro cardenas\n",
      "Processing Record 165 | coos bay\n",
      "Processing Record 166 | cervo\n",
      "Processing Record 167 | avera\n",
      "Processing Record 168 | ilulissat\n",
      "City (samusu) not found. Skipping...\n",
      "Processing Record 169 | beira\n",
      "Processing Record 170 | sonamukhi\n",
      "Processing Record 171 | yuncheng\n",
      "Processing Record 172 | port lincoln\n",
      "Processing Record 173 | chuy\n",
      "Processing Record 174 | yatou\n",
      "Processing Record 175 | cidreira\n",
      "Processing Record 176 | butler\n",
      "City (temaraia) not found. Skipping...\n",
      "Processing Record 177 | xinmin\n",
      "Processing Record 178 | bonavista\n",
      "Processing Record 179 | panshi\n",
      "Processing Record 180 | rocha\n",
      "Processing Record 181 | itarema\n",
      "Processing Record 182 | clarence town\n",
      "Processing Record 183 | saint-alexandre\n",
      "Processing Record 184 | tuktoyaktuk\n",
      "Processing Record 185 | nam som\n",
      "City (sataua) not found. Skipping...\n",
      "Processing Record 186 | komsomolskiy\n",
      "Processing Record 187 | cherskiy\n",
      "Processing Record 188 | palenque\n",
      "Processing Record 189 | lebu\n",
      "Processing Record 190 | boa vista\n",
      "Processing Record 191 | abu zabad\n",
      "Processing Record 192 | castro\n",
      "Processing Record 193 | flagstaff\n",
      "Processing Record 194 | paraiso\n",
      "Processing Record 195 | ugoofaaru\n",
      "Processing Record 196 | faya\n",
      "Processing Record 197 | hasaki\n",
      "Processing Record 198 | bodden town\n",
      "Processing Record 199 | mahon\n",
      "Processing Record 200 | cabo san lucas\n",
      "Processing Record 201 | jamestown\n",
      "Processing Record 202 | inhambane\n",
      "Processing Record 203 | champerico\n",
      "Processing Record 204 | narsaq\n",
      "City (samalaeulu) not found. Skipping...\n",
      "Processing Record 205 | ancud\n",
      "Processing Record 206 | mahebourg\n",
      "Processing Record 207 | rudraprayag\n",
      "Processing Record 208 | nuevo progreso\n",
      "Processing Record 209 | muisne\n",
      "Processing Record 210 | koryazhma\n",
      "Processing Record 211 | port macquarie\n",
      "Processing Record 212 | hami\n",
      "Processing Record 213 | grand gaube\n",
      "Processing Record 214 | havoysund\n",
      "Processing Record 215 | coahuayana\n",
      "Processing Record 216 | adrar\n",
      "Processing Record 217 | bethel\n",
      "Processing Record 218 | anchorage\n",
      "Processing Record 219 | sorong\n",
      "Processing Record 220 | airai\n",
      "Processing Record 221 | steamboat springs\n",
      "Processing Record 222 | sao felix do xingu\n",
      "Processing Record 223 | saint-augustin\n"
     ]
    },
    {
     "name": "stdout",
     "output_type": "stream",
     "text": [
      "Processing Record 224 | sladkovo\n",
      "Processing Record 225 | kangaatsiaq\n",
      "City (falealupo) not found. Skipping...\n",
      "Processing Record 226 | san giovanni rotondo\n",
      "Processing Record 227 | miyako\n",
      "Processing Record 228 | pevek\n",
      "Processing Record 229 | veraval\n",
      "Processing Record 230 | fortuna\n",
      "Processing Record 231 | sisimiut\n",
      "Processing Record 232 | lahaina\n",
      "Processing Record 233 | qaqortoq\n",
      "Processing Record 234 | caborca\n",
      "Processing Record 235 | pinhal novo\n",
      "Processing Record 236 | inuvik\n",
      "Processing Record 237 | san diego\n",
      "Processing Record 238 | baruun-urt\n",
      "Processing Record 239 | buriti bravo\n",
      "Processing Record 240 | shakawe\n",
      "Processing Record 241 | aksu\n",
      "City (mahadday weyne) not found. Skipping...\n",
      "Processing Record 242 | trapani\n",
      "Processing Record 243 | plattsburgh\n",
      "Processing Record 244 | damietta\n",
      "Processing Record 245 | akdagmadeni\n",
      "Processing Record 246 | kahului\n",
      "City (vaitupu) not found. Skipping...\n",
      "City (sentyabrskiy) not found. Skipping...\n",
      "City (attawapiskat) not found. Skipping...\n",
      "Processing Record 247 | leshukonskoye\n",
      "Processing Record 248 | itaqui\n",
      "Processing Record 249 | vangaindrano\n",
      "Processing Record 250 | koslan\n",
      "Processing Record 251 | bubaque\n",
      "Processing Record 252 | port hardy\n",
      "Processing Record 253 | jalu\n",
      "Processing Record 254 | poum\n",
      "Processing Record 255 | bamiantong\n",
      "Processing Record 256 | anadyr\n",
      "Processing Record 257 | buala\n",
      "Processing Record 258 | nanga eboko\n",
      "City (mys shmidta) not found. Skipping...\n",
      "Processing Record 259 | mount gambier\n",
      "Processing Record 260 | galesong\n",
      "Processing Record 261 | hualmay\n",
      "Processing Record 262 | kaitangata\n",
      "Processing Record 263 | grindavik\n",
      "Processing Record 264 | ascona\n",
      "Processing Record 265 | khandyga\n",
      "Processing Record 266 | la oroya\n",
      "Processing Record 267 | taoudenni\n",
      "Processing Record 268 | todos santos\n",
      "Processing Record 269 | vanavara\n",
      "Processing Record 270 | ewa beach\n",
      "Processing Record 271 | boysun\n",
      "Processing Record 272 | perisoru\n",
      "Processing Record 273 | serra\n",
      "Processing Record 274 | canton\n",
      "Processing Record 275 | atar\n",
      "Processing Record 276 | sao filipe\n",
      "Processing Record 277 | linfen\n",
      "Processing Record 278 | pemberton\n",
      "Processing Record 279 | lata\n",
      "Processing Record 280 | cap malheureux\n",
      "Processing Record 281 | norman wells\n",
      "Processing Record 282 | shaunavon\n",
      "Processing Record 283 | benghazi\n",
      "Processing Record 284 | boende\n",
      "Processing Record 285 | marrakesh\n",
      "Processing Record 286 | kabinda\n",
      "Processing Record 287 | hay river\n",
      "Processing Record 288 | san jose\n",
      "City (urdzhar) not found. Skipping...\n",
      "Processing Record 289 | makakilo city\n",
      "Processing Record 290 | polahongon\n",
      "Processing Record 291 | sur\n",
      "City (karauzyak) not found. Skipping...\n",
      "Processing Record 292 | lasa\n",
      "Processing Record 293 | plerin\n",
      "Processing Record 294 | cotia\n",
      "Processing Record 295 | watsa\n",
      "Processing Record 296 | pacific grove\n",
      "Processing Record 297 | coquimbo\n",
      "Processing Record 298 | zhob\n",
      "Processing Record 299 | praia da vitoria\n",
      "City (grand river south east) not found. Skipping...\n",
      "Processing Record 300 | olinda\n",
      "Processing Record 301 | kalya\n",
      "Processing Record 302 | saint helens\n",
      "Processing Record 303 | port angeles\n",
      "Processing Record 304 | cabedelo\n",
      "City (kinanah) not found. Skipping...\n",
      "Processing Record 305 | taitung\n",
      "Processing Record 306 | abay\n",
      "Processing Record 307 | santa maria\n",
      "Processing Record 308 | banda aceh\n",
      "Processing Record 309 | fairbanks\n",
      "Processing Record 310 | aginskoye\n",
      "City (safwah) not found. Skipping...\n",
      "Processing Record 311 | khandbari\n",
      "Processing Record 312 | esperance\n",
      "Processing Record 313 | carutapera\n",
      "Processing Record 314 | axim\n",
      "Processing Record 315 | ginosa\n",
      "Processing Record 316 | umm lajj\n",
      "Processing Record 317 | clyde river\n",
      "Processing Record 318 | pran buri\n",
      "Processing Record 319 | palana\n",
      "Processing Record 320 | leningradskiy\n",
      "Processing Record 321 | muros\n",
      "Processing Record 322 | nome\n",
      "Processing Record 323 | humaita\n",
      "Processing Record 324 | wattegama\n",
      "City (mullaitivu) not found. Skipping...\n",
      "Processing Record 325 | brokopondo\n",
      "Processing Record 326 | maragogi\n",
      "Processing Record 327 | saint marys\n",
      "Processing Record 328 | college\n",
      "Processing Record 329 | ipixuna\n",
      "Processing Record 330 | bilma\n",
      "City (meyungs) not found. Skipping...\n",
      "Processing Record 331 | kisangani\n",
      "Processing Record 332 | bengkulu\n",
      "Processing Record 333 | cockburn town\n",
      "Processing Record 334 | kungurtug\n",
      "Processing Record 335 | belousovka\n",
      "Processing Record 336 | hun\n",
      "Processing Record 337 | te anau\n",
      "Processing Record 338 | burnie\n",
      "Processing Record 339 | vostok\n",
      "Processing Record 340 | kuito\n",
      "Processing Record 341 | coihaique\n",
      "Processing Record 342 | creel\n",
      "Processing Record 343 | chokwe\n",
      "Processing Record 344 | les cayes\n",
      "Processing Record 345 | gimli\n",
      "City (skagastrond) not found. Skipping...\n",
      "Processing Record 346 | salinopolis\n",
      "Processing Record 347 | salalah\n",
      "Processing Record 348 | general pico\n",
      "Processing Record 349 | aykhal\n",
      "Processing Record 350 | dingle\n",
      "Processing Record 351 | broome\n",
      "Processing Record 352 | port moresby\n",
      "Processing Record 353 | astoria\n",
      "Processing Record 354 | pinhao\n",
      "Processing Record 355 | nikolayevka\n",
      "Processing Record 356 | igrim\n",
      "Processing Record 357 | iqaluit\n",
      "Processing Record 358 | brae\n",
      "Processing Record 359 | tuyen quang\n",
      "Processing Record 360 | ossora\n",
      "Processing Record 361 | deputatskiy\n",
      "Processing Record 362 | panevezys\n",
      "Processing Record 363 | macia\n",
      "Processing Record 364 | spoleto\n",
      "Processing Record 365 | khaniotis\n",
      "Processing Record 366 | canutama\n",
      "Processing Record 367 | karratha\n",
      "Processing Record 368 | baiyin\n",
      "Processing Record 369 | pasni\n",
      "Processing Record 370 | sapulpa\n",
      "Processing Record 371 | berlevag\n",
      "Processing Record 372 | patna\n",
      "Processing Record 373 | cayenne\n",
      "Processing Record 374 | gubkinskiy\n",
      "Processing Record 375 | huarmey\n",
      "Processing Record 376 | zdice\n",
      "Processing Record 377 | sorland\n",
      "Processing Record 378 | ballina\n",
      "Processing Record 379 | kirensk\n",
      "Processing Record 380 | xam nua\n",
      "Processing Record 381 | talcahuano\n",
      "Processing Record 382 | egvekinot\n",
      "Processing Record 383 | rabaul\n",
      "City (naftah) not found. Skipping...\n",
      "Processing Record 384 | tromso\n",
      "Processing Record 385 | oriximina\n",
      "Processing Record 386 | alegrete\n",
      "Processing Record 387 | minatitlan\n",
      "Processing Record 388 | batagay-alyta\n",
      "Processing Record 389 | pavlovsk\n",
      "Processing Record 390 | ngama\n",
      "Processing Record 391 | iralaya\n",
      "Processing Record 392 | ust-koksa\n",
      "Processing Record 393 | safakulevo\n",
      "Processing Record 394 | kenai\n",
      "Processing Record 395 | dicabisagan\n",
      "Processing Record 396 | beloha\n",
      "Processing Record 397 | tonj\n",
      "Processing Record 398 | samarai\n",
      "Processing Record 399 | labuhan\n",
      "Processing Record 400 | breves\n",
      "Processing Record 401 | caucaia\n",
      "Processing Record 402 | gisborne\n",
      "Processing Record 403 | weinan\n",
      "Processing Record 404 | caravelas\n",
      "Processing Record 405 | aksay\n",
      "Processing Record 406 | numaran\n",
      "Processing Record 407 | arman\n",
      "Processing Record 408 | arlit\n",
      "City (marcona) not found. Skipping...\n",
      "Processing Record 409 | constitucion\n",
      "Processing Record 410 | luderitz\n",
      "Processing Record 411 | xiaoshi\n",
      "Processing Record 412 | marawi\n",
      "Processing Record 413 | burns lake\n",
      "Processing Record 414 | verkhoyansk\n",
      "Processing Record 415 | ust-kuyga\n",
      "Processing Record 416 | grand-santi\n",
      "Processing Record 417 | soe\n",
      "City (bolungarvik) not found. Skipping...\n",
      "Processing Record 418 | merauke\n",
      "Processing Record 419 | zlitan\n",
      "Processing Record 420 | limpapa\n",
      "Processing Record 421 | trairi\n",
      "Processing Record 422 | vao\n",
      "Processing Record 423 | nortelandia\n",
      "City (kuche) not found. Skipping...\n",
      "Processing Record 424 | gangtok\n",
      "Processing Record 425 | laiyang\n",
      "City (mizpe ramon) not found. Skipping...\n",
      "City (tabiauea) not found. Skipping...\n",
      "City (ust-bolsheretsk) not found. Skipping...\n",
      "Processing Record 426 | mao\n",
      "Processing Record 427 | linxia\n",
      "Processing Record 428 | lorengau\n",
      "Processing Record 429 | calama\n",
      "Processing Record 430 | shimanovsk\n",
      "Processing Record 431 | tautira\n",
      "Processing Record 432 | tahoua\n",
      "Processing Record 433 | paamiut\n",
      "Processing Record 434 | lagoa\n",
      "Processing Record 435 | kaohsiung\n",
      "Processing Record 436 | karatau\n",
      "Processing Record 437 | new boston\n",
      "Processing Record 438 | aiken\n",
      "Processing Record 439 | murgab\n",
      "Processing Record 440 | yulara\n",
      "Processing Record 441 | gladstone\n",
      "Processing Record 442 | luanda\n",
      "Processing Record 443 | dunedin\n",
      "Processing Record 444 | san borja\n",
      "Processing Record 445 | amapa\n",
      "Processing Record 446 | katsuura\n",
      "Processing Record 447 | george town\n"
     ]
    },
    {
     "name": "stdout",
     "output_type": "stream",
     "text": [
      "Processing Record 448 | opuwo\n",
      "Processing Record 449 | nakhon phanom\n",
      "Processing Record 450 | kununurra\n",
      "Processing Record 451 | asosa\n",
      "Processing Record 452 | miedzyrzecz\n",
      "Processing Record 453 | iquitos\n",
      "Processing Record 454 | sitka\n",
      "Processing Record 455 | bayburt\n",
      "Processing Record 456 | nishihara\n",
      "Processing Record 457 | shelburne\n",
      "Processing Record 458 | krasnovishersk\n",
      "Processing Record 459 | rosarito\n",
      "Processing Record 460 | sao raimundo das mangabeiras\n",
      "Processing Record 461 | yelets\n",
      "Processing Record 462 | fort nelson\n",
      "Processing Record 463 | port hedland\n",
      "Processing Record 464 | lokosovo\n",
      "Processing Record 465 | antalaha\n",
      "Processing Record 466 | bundaberg\n",
      "Processing Record 467 | guiong\n",
      "Processing Record 468 | rumphi\n",
      "Processing Record 469 | urucurituba\n",
      "Processing Record 470 | skjervoy\n",
      "City (gangotri) not found. Skipping...\n",
      "Processing Record 471 | kailua\n",
      "Processing Record 472 | sangueya\n",
      "City (falkoping) not found. Skipping...\n",
      "Processing Record 473 | tongzi\n",
      "Processing Record 474 | geraldton\n",
      "Processing Record 475 | jalpan\n",
      "Processing Record 476 | chateaubelair\n",
      "Processing Record 477 | denpasar\n",
      "Processing Record 478 | san carlos\n",
      "Processing Record 479 | chistogorskiy\n",
      "Processing Record 480 | biltine\n",
      "Processing Record 481 | puerto escondido\n",
      "Processing Record 482 | wittstock\n",
      "Processing Record 483 | arica\n",
      "Processing Record 484 | nueva concepcion\n",
      "City (bengkalis) not found. Skipping...\n",
      "Processing Record 485 | leh\n",
      "Processing Record 486 | barranca\n",
      "Processing Record 487 | ca mau\n",
      "Processing Record 488 | kamenka\n",
      "Processing Record 489 | richards bay\n",
      "Processing Record 490 | fonte boa\n",
      "Processing Record 491 | oyama\n",
      "Processing Record 492 | kruisfontein\n",
      "Processing Record 493 | rincon\n",
      "Processing Record 494 | songea\n",
      "Processing Record 495 | lyuban\n",
      "Processing Record 496 | chunskiy\n",
      "Processing Record 497 | san diego de los banos\n",
      "Processing Record 498 | imbituba\n",
      "Processing Record 499 | nizhniy kuranakh\n",
      "Processing Record 500 | lages\n",
      "City (formoso do araguaia) not found. Skipping...\n",
      "Processing Record 501 | sapele\n",
      "Processing Record 502 | kristiinankaupunki\n",
      "Processing Record 503 | tezu\n",
      "Processing Record 504 | fare\n",
      "Processing Record 505 | asyut\n",
      "City (doctor pedro p. pena) not found. Skipping...\n",
      "Processing Record 506 | trinidad\n",
      "Processing Record 507 | sao jose da coroa grande\n",
      "Processing Record 508 | ziro\n",
      "Processing Record 509 | kutum\n",
      "City (karaul) not found. Skipping...\n",
      "Processing Record 510 | conde\n",
      "Processing Record 511 | hamilton\n",
      "Processing Record 512 | serrinha\n",
      "Processing Record 513 | vestmanna\n",
      "Processing Record 514 | road town\n",
      "Processing Record 515 | vardo\n",
      "Processing Record 516 | almeirim\n",
      "Processing Record 517 | tabuk\n",
      "Processing Record 518 | brookings\n",
      "Processing Record 519 | shimoda\n",
      "Processing Record 520 | gornyy\n",
      "Processing Record 521 | san policarpo\n",
      "City (paradwip) not found. Skipping...\n",
      "Processing Record 522 | zavodouspenskoye\n",
      "Processing Record 523 | byron bay\n",
      "Processing Record 524 | zelenoborskiy\n",
      "Processing Record 525 | mana\n",
      "Processing Record 526 | itoman\n",
      "Processing Record 527 | katherine\n",
      "Processing Record 528 | taguatinga\n",
      "Processing Record 529 | porto de moz\n",
      "Processing Record 530 | shenjiamen\n",
      "Processing Record 531 | honiara\n",
      "Processing Record 532 | ozinki\n",
      "Processing Record 533 | taihe\n",
      "City (gorno-chuyskiy) not found. Skipping...\n",
      "Processing Record 534 | igarka\n",
      "City (ngukurr) not found. Skipping...\n",
      "Processing Record 535 | fort thomas\n",
      "Processing Record 536 | novochernorechenskiy\n",
      "Processing Record 537 | namatanai\n",
      "Processing Record 538 | oksfjord\n",
      "Processing Record 539 | vila franca do campo\n",
      "Processing Record 540 | pekan\n",
      "Processing Record 541 | bad kreuznach\n",
      "Processing Record 542 | alugan\n",
      "Processing Record 543 | ati\n",
      "Processing Record 544 | banbury\n",
      "Processing Record 545 | moron\n",
      "Processing Record 546 | saint anthony\n",
      "Processing Record 547 | sri aman\n",
      "Processing Record 548 | bereda\n",
      "Processing Record 549 | chipata\n",
      "Processing Record 550 | manta\n",
      "Processing Record 551 | la brea\n",
      "Processing Record 552 | shubarshi\n",
      "Processing Record 553 | wamba\n",
      "Processing Record 554 | gujar khan\n",
      "Processing Record 555 | bima\n",
      "Processing Record 556 | angoche\n",
      "Processing Record 557 | raudeberg\n",
      "Processing Record 558 | hibbing\n",
      "Processing Record 559 | guiratinga\n",
      "Processing Record 560 | mayumba\n",
      "Processing Record 561 | mogadishu\n",
      "Processing Record 562 | mountain home\n",
      "Processing Record 563 | mildura\n",
      "Processing Record 564 | gobabis\n",
      "Processing Record 565 | kelo\n",
      "Processing Record 566 | suhum\n",
      "City (sorvag) not found. Skipping...\n",
      "Processing Record 567 | safranbolu\n",
      "Processing Record 568 | peniche\n",
      "Processing Record 569 | shahrud\n",
      "Processing Record 570 | koungheul\n",
      "Processing Record 571 | shouguang\n",
      "Processing Record 572 | san juan\n",
      "Processing Record 573 | palu\n",
      "Processing Record 574 | ploiesti\n",
      "Processing Record 575 | natitingou\n",
      "Processing Record 576 | talara\n",
      "Processing Record 577 | miles city\n",
      "Processing Record 578 | leeston\n",
      "Processing Record 579 | kayes\n",
      "Processing Record 580 | rongcheng\n",
      "Processing Record 581 | dengfeng\n",
      "-----------------------------\n",
      "Data Retrieval Complete\n",
      "-----------------------------\n"
     ]
    }
   ],
   "source": [
    "# Build partial query URL\n",
    "url = \"http://api.openweathermap.org/data/2.5/weather?\"\n",
    "units = \"imperial\"\n",
    "numCity = 0\n",
    "query_url = f\"{url}appid={weather_api_key}&units={units}&q=\"\n",
    "query_url\n",
    "# Setup lists to capture data through API calls, which will be added to the dataframe later\n",
    "city_list = []\n",
    "geo_lat_list = []\n",
    "geo_long_list = []\n",
    "max_temp_list = []\n",
    "humidity_list = []\n",
    "cloudiness_list = []\n",
    "windspeed_list = []\n",
    "country_list = []\n",
    "dates_list = []\n",
    "\n",
    "#Loop through the cities list and append data to the appropriate lists\n",
    "print(f\"Beginning Data Retrieval\")\n",
    "print(\"-----------------------------\")\n",
    "\n",
    "for city in cities:\n",
    "    try:\n",
    "        response = requests.get(query_url + city).json()\n",
    "        geo_lat_list.append(response[\"coord\"][\"lat\"])\n",
    "        geo_long_list.append(response[\"coord\"][\"lon\"])\n",
    "        max_temp_list.append(response[\"main\"][\"temp_max\"])\n",
    "        humidity_list.append(response[\"main\"][\"humidity\"])\n",
    "        cloudiness_list.append(response[\"clouds\"][\"all\"])\n",
    "        windspeed_list.append(response[\"wind\"][\"speed\"])\n",
    "        country_list.append(response[\"sys\"][\"country\"])\n",
    "        dates_list.append(response[\"dt\"])\n",
    "        city_list.append(city)\n",
    "        numCity += 1\n",
    "        print(f\"Processing Record {numCity} | {city}\")\n",
    "    except:\n",
    "        print(f\"City ({city}) not found. Skipping...\")\n",
    "        pass\n",
    "\n",
    "print(\"-----------------------------\")\n",
    "print(f\"Data Retrieval Complete\")\n",
    "print(\"-----------------------------\")\n"
   ]
  },
  {
   "cell_type": "markdown",
   "metadata": {},
   "source": [
    "### Convert Raw Data to DataFrame\n",
    "* Export the city data into a .csv.\n",
    "* Display the DataFrame"
   ]
  },
  {
   "cell_type": "code",
   "execution_count": 4,
   "metadata": {},
   "outputs": [
    {
     "data": {
      "text/html": [
       "<div>\n",
       "<style scoped>\n",
       "    .dataframe tbody tr th:only-of-type {\n",
       "        vertical-align: middle;\n",
       "    }\n",
       "\n",
       "    .dataframe tbody tr th {\n",
       "        vertical-align: top;\n",
       "    }\n",
       "\n",
       "    .dataframe thead th {\n",
       "        text-align: right;\n",
       "    }\n",
       "</style>\n",
       "<table border=\"1\" class=\"dataframe\">\n",
       "  <thead>\n",
       "    <tr style=\"text-align: right;\">\n",
       "      <th></th>\n",
       "      <th>City</th>\n",
       "      <th>Lat</th>\n",
       "      <th>Lng</th>\n",
       "      <th>Max Temp</th>\n",
       "      <th>Humidity</th>\n",
       "      <th>Cloudiness</th>\n",
       "      <th>Wind Speed</th>\n",
       "      <th>Country</th>\n",
       "      <th>Date</th>\n",
       "    </tr>\n",
       "  </thead>\n",
       "  <tbody>\n",
       "    <tr>\n",
       "      <th>0</th>\n",
       "      <td>carbonia</td>\n",
       "      <td>39.1672</td>\n",
       "      <td>8.5222</td>\n",
       "      <td>60.80</td>\n",
       "      <td>88</td>\n",
       "      <td>0</td>\n",
       "      <td>3.44</td>\n",
       "      <td>IT</td>\n",
       "      <td>1619382376</td>\n",
       "    </tr>\n",
       "    <tr>\n",
       "      <th>1</th>\n",
       "      <td>ushuaia</td>\n",
       "      <td>-54.8000</td>\n",
       "      <td>-68.3000</td>\n",
       "      <td>55.40</td>\n",
       "      <td>50</td>\n",
       "      <td>20</td>\n",
       "      <td>16.11</td>\n",
       "      <td>AR</td>\n",
       "      <td>1619382352</td>\n",
       "    </tr>\n",
       "    <tr>\n",
       "      <th>2</th>\n",
       "      <td>qaanaaq</td>\n",
       "      <td>77.4840</td>\n",
       "      <td>-69.3632</td>\n",
       "      <td>31.48</td>\n",
       "      <td>74</td>\n",
       "      <td>27</td>\n",
       "      <td>4.07</td>\n",
       "      <td>GL</td>\n",
       "      <td>1619382377</td>\n",
       "    </tr>\n",
       "    <tr>\n",
       "      <th>3</th>\n",
       "      <td>sechura</td>\n",
       "      <td>-5.5569</td>\n",
       "      <td>-80.8222</td>\n",
       "      <td>80.44</td>\n",
       "      <td>58</td>\n",
       "      <td>62</td>\n",
       "      <td>13.42</td>\n",
       "      <td>PE</td>\n",
       "      <td>1619382377</td>\n",
       "    </tr>\n",
       "    <tr>\n",
       "      <th>4</th>\n",
       "      <td>cape town</td>\n",
       "      <td>-33.9258</td>\n",
       "      <td>18.4232</td>\n",
       "      <td>62.01</td>\n",
       "      <td>94</td>\n",
       "      <td>20</td>\n",
       "      <td>8.05</td>\n",
       "      <td>ZA</td>\n",
       "      <td>1619382377</td>\n",
       "    </tr>\n",
       "  </tbody>\n",
       "</table>\n",
       "</div>"
      ],
      "text/plain": [
       "        City      Lat      Lng  Max Temp  Humidity  Cloudiness  Wind Speed  \\\n",
       "0   carbonia  39.1672   8.5222     60.80        88           0        3.44   \n",
       "1    ushuaia -54.8000 -68.3000     55.40        50          20       16.11   \n",
       "2    qaanaaq  77.4840 -69.3632     31.48        74          27        4.07   \n",
       "3    sechura  -5.5569 -80.8222     80.44        58          62       13.42   \n",
       "4  cape town -33.9258  18.4232     62.01        94          20        8.05   \n",
       "\n",
       "  Country        Date  \n",
       "0      IT  1619382376  \n",
       "1      AR  1619382352  \n",
       "2      GL  1619382377  \n",
       "3      PE  1619382377  \n",
       "4      ZA  1619382377  "
      ]
     },
     "execution_count": 4,
     "metadata": {},
     "output_type": "execute_result"
    }
   ],
   "source": [
    "temperature_by_city_df = pd.DataFrame({\n",
    "    \"City\" : city_list,\n",
    "    \"Lat\" : geo_lat_list,\n",
    "    \"Lng\" : geo_long_list,\n",
    "    \"Max Temp\" : max_temp_list,\n",
    "    \"Humidity\" : humidity_list,\n",
    "    \"Cloudiness\" : cloudiness_list,\n",
    "    \"Wind Speed\" : windspeed_list,\n",
    "    \"Country\" : country_list,\n",
    "    \"Date\" : dates_list,\n",
    "})\n",
    "\n",
    "\n",
    "temperature_by_city_df.to_csv(output_data_file)\n",
    "temperature_by_city_df.head()"
   ]
  },
  {
   "cell_type": "code",
   "execution_count": null,
   "metadata": {},
   "outputs": [],
   "source": []
  },
  {
   "cell_type": "markdown",
   "metadata": {},
   "source": [
    "## Inspect the data and remove the cities where the humidity > 100%.\n",
    "----\n",
    "Skip this step if there are no cities that have humidity > 100%. "
   ]
  },
  {
   "cell_type": "code",
   "execution_count": 5,
   "metadata": {},
   "outputs": [
    {
     "data": {
      "text/html": [
       "<div>\n",
       "<style scoped>\n",
       "    .dataframe tbody tr th:only-of-type {\n",
       "        vertical-align: middle;\n",
       "    }\n",
       "\n",
       "    .dataframe tbody tr th {\n",
       "        vertical-align: top;\n",
       "    }\n",
       "\n",
       "    .dataframe thead th {\n",
       "        text-align: right;\n",
       "    }\n",
       "</style>\n",
       "<table border=\"1\" class=\"dataframe\">\n",
       "  <thead>\n",
       "    <tr style=\"text-align: right;\">\n",
       "      <th></th>\n",
       "      <th>City</th>\n",
       "      <th>Lat</th>\n",
       "      <th>Lng</th>\n",
       "      <th>Max Temp</th>\n",
       "      <th>Humidity</th>\n",
       "      <th>Cloudiness</th>\n",
       "      <th>Wind Speed</th>\n",
       "      <th>Country</th>\n",
       "      <th>Date</th>\n",
       "    </tr>\n",
       "  </thead>\n",
       "  <tbody>\n",
       "  </tbody>\n",
       "</table>\n",
       "</div>"
      ],
      "text/plain": [
       "Empty DataFrame\n",
       "Columns: [City, Lat, Lng, Max Temp, Humidity, Cloudiness, Wind Speed, Country, Date]\n",
       "Index: []"
      ]
     },
     "execution_count": 5,
     "metadata": {},
     "output_type": "execute_result"
    }
   ],
   "source": [
    "humidity_over_100_df = temperature_by_city_df.loc[temperature_by_city_df[\"Humidity\"]>100]\n",
    "humidity_over_100_df.head()"
   ]
  },
  {
   "cell_type": "code",
   "execution_count": 6,
   "metadata": {},
   "outputs": [],
   "source": [
    "#  Get the indices of cities that have humidity over 100%.\n"
   ]
  },
  {
   "cell_type": "code",
   "execution_count": 7,
   "metadata": {},
   "outputs": [],
   "source": [
    "# Make a new DataFrame equal to the city data to drop all humidity outliers by index.\n",
    "# Passing \"inplace=False\" will make a copy of the city_data DataFrame, which we call \"clean_city_data\".\n"
   ]
  },
  {
   "cell_type": "code",
   "execution_count": null,
   "metadata": {},
   "outputs": [],
   "source": [
    "\n"
   ]
  },
  {
   "cell_type": "markdown",
   "metadata": {},
   "source": [
    "## Plotting the Data\n",
    "* Use proper labeling of the plots using plot titles (including date of analysis) and axes labels.\n",
    "* Save the plotted figures as .pngs."
   ]
  },
  {
   "cell_type": "markdown",
   "metadata": {},
   "source": [
    "## Latitude vs. Temperature Plot"
   ]
  },
  {
   "cell_type": "code",
   "execution_count": 8,
   "metadata": {
    "scrolled": true
   },
   "outputs": [
    {
     "data": {
      "image/png": "[encoded data removed]",
      "text/plain": [
       "<Figure size 432x288 with 1 Axes>"
      ]
     },
     "metadata": {
      "needs_background": "light"
     },
     "output_type": "display_data"
    },
    {
     "name": "stdout",
     "output_type": "stream",
     "text": [
      "As the Scatter Plot clearly shows, the highest temperatures are closer to the equater.\n",
      "Temperatures are far lower as we move away from the equater. .\n"
     ]
    }
   ],
   "source": [
    "#Set x-axis and y-axis\n",
    "x_axis = temperature_by_city_df[\"Lat\"]\n",
    "y_axis = temperature_by_city_df[\"Max Temp\"]\n",
    "\n",
    "#Plot data\n",
    "plt.scatter(x_axis, y_axis)\n",
    "plt.xlabel(\"Latitude\")\n",
    "plt.ylabel(\"Max Temperature (F)\")\n",
    "plt.title(\"Latitude vs. Max Temperature (F)\")\n",
    "plt.savefig(\"output_data/maxtemp_vs_lat.png\")\n",
    "plt.show()\n",
    "\n",
    "print(f\"As the Scatter Plot clearly shows, the highest temperatures are closer to the equater.\")\n",
    "print(f\"Temperatures are far lower as we move away from the equater. .\")"
   ]
  },
  {
   "cell_type": "markdown",
   "metadata": {},
   "source": [
    "## Latitude vs. Humidity Plot"
   ]
  },
  {
   "cell_type": "code",
   "execution_count": 9,
   "metadata": {},
   "outputs": [
    {
     "data": {
      "image/png": "[encoded data removed]",
      "text/plain": [
       "<Figure size 432x288 with 1 Axes>"
      ]
     },
     "metadata": {
      "needs_background": "light"
     },
     "output_type": "display_data"
    },
    {
     "name": "stdout",
     "output_type": "stream",
     "text": [
      "Humidity % tends to be the lowest closer to the equator and the highest away from the equator.\n",
      "However, there are cities closest to the equator that share similiar humidity levels as cities that are farther from the equator.\n"
     ]
    }
   ],
   "source": [
    "#Set x-axis and y-axis\n",
    "x_axis = temperature_by_city_df[\"Lat\"]\n",
    "y_axis = temperature_by_city_df[\"Humidity\"]\n",
    "\n",
    "#Plot data\n",
    "plt.scatter(x_axis, y_axis)\n",
    "plt.xlabel(\"Latitude\")\n",
    "plt.ylabel(\"Humidity %\")\n",
    "plt.title(\"Latitude vs. Humidity %\")\n",
    "plt.savefig(\"output_data/humidity_vs_lat.png\")\n",
    "plt.show()\n",
    "\n",
    "print(f\"Humidity % tends to be the lowest closer to the equator and the highest away from the equator.\")\n",
    "print(f\"However, there are cities closest to the equator that share similiar humidity levels as cities that are farther from the equator.\")"
   ]
  },
  {
   "cell_type": "markdown",
   "metadata": {},
   "source": [
    "## Latitude vs. Cloudiness Plot"
   ]
  },
  {
   "cell_type": "code",
   "execution_count": 10,
   "metadata": {},
   "outputs": [
    {
     "data": {
      "image/png": "[encoded data removed]",
      "text/plain": [
       "<Figure size 432x288 with 1 Axes>"
      ]
     },
     "metadata": {
      "needs_background": "light"
     },
     "output_type": "display_data"
    },
    {
     "name": "stdout",
     "output_type": "stream",
     "text": [
      "There seems to be no correlation between cloudiness and latitude.\n"
     ]
    }
   ],
   "source": [
    "#Set x-axis and y-axis\n",
    "x_axis = temperature_by_city_df[\"Lat\"]\n",
    "y_axis = temperature_by_city_df[\"Cloudiness\"]\n",
    "\n",
    "#Plot data\n",
    "plt.scatter(x_axis, y_axis)\n",
    "plt.xlabel(\"Latitude\")\n",
    "plt.ylabel(\"Cloudiness %\")\n",
    "plt.title(\"Latitude vs. Cloudiness %\")\n",
    "plt.savefig(\"output_data/cloudiness_vs_lat.png\")\n",
    "plt.show()\n",
    "\n",
    "print(f\"There seems to be no correlation between cloudiness and latitude.\")"
   ]
  },
  {
   "cell_type": "markdown",
   "metadata": {},
   "source": [
    "## Latitude vs. Wind Speed Plot"
   ]
  },
  {
   "cell_type": "code",
   "execution_count": 11,
   "metadata": {},
   "outputs": [
    {
     "data": {
      "image/png": "[encoded data removed]",
      "text/plain": [
       "<Figure size 432x288 with 1 Axes>"
      ]
     },
     "metadata": {
      "needs_background": "light"
     },
     "output_type": "display_data"
    },
    {
     "name": "stdout",
     "output_type": "stream",
     "text": [
      "There is less Wind Speed closer to the equator. The highest windspeeds are found from the -25 to -40 range, and from 25 to 45 range.\n",
      "Windspeed is greatly reduced as we move away from the equator on either direction.\n"
     ]
    }
   ],
   "source": [
    "#Set x-axis and y-axis\n",
    "x_axis = temperature_by_city_df[\"Lat\"]\n",
    "y_axis = temperature_by_city_df[\"Wind Speed\"]\n",
    "\n",
    "#Plot data\n",
    "plt.scatter(x_axis, y_axis)\n",
    "plt.xlabel(\"Latitude\")\n",
    "plt.ylabel(\"Wind Speed (Miles per Hour)\")\n",
    "plt.title(\"Latitude vs. Wind Speed (mph)\")\n",
    "plt.savefig(\"output_data/windspeed_vs_lat.png\")\n",
    "plt.show()\n",
    "\n",
    "print(f\"There is less Wind Speed closer to the equator. The highest windspeeds are found from the -25 to -40 range, and from 25 to 45 range.\")\n",
    "print(f\"Windspeed is greatly reduced as we move away from the equator on either direction.\")"
   ]
  },
  {
   "cell_type": "markdown",
   "metadata": {},
   "source": [
    "## Linear Regression"
   ]
  },
  {
   "cell_type": "code",
   "execution_count": 12,
   "metadata": {},
   "outputs": [],
   "source": [
    "#Go through dataframe and create 2 new dataframes for Northern and Southern hemisfpheres\n",
    "northern_hemisphere_df = temperature_by_city_df.loc[temperature_by_city_df[\"Lat\"] >= 0]\n",
    "southern_hemisphere_df = temperature_by_city_df.loc[temperature_by_city_df[\"Lat\"] < 0]\n",
    "\n",
    "#We're going to repeat the same code for linear regressions. Utilize a function instead\n",
    "def linearRegressionFunc(x_axis, y_axis):\n",
    "    \n",
    "    correlation_coeff = st.pearsonr(x_axis, y_axis)\n",
    "    print(f\"The correlation coefficient: {round(correlation_coeff[0],2)}.\")\n",
    "\n",
    "\n",
    "    #Linear Regression\n",
    "    (slope, intercept, rvalue, pvalue, stderr) = st.linregress(x_axis, y_axis)\n",
    "    regression_value = slope * x_axis + intercept\n",
    "    line_equation = \"y = \" + str(round(slope,2)) + \"x + \" + str(round(intercept,2))\n",
    "    # line_equation\n",
    "\n",
    "    #Replot scatter plot with linear regression information\n",
    "    plt.scatter(x_axis, y_axis)\n",
    "    plt.plot(x_axis, regression_value, \"r-\")\n",
    "    \n",
    "    return line_equation\n",
    "    "
   ]
  },
  {
   "cell_type": "markdown",
   "metadata": {},
   "source": [
    "####  Northern Hemisphere - Max Temp vs. Latitude Linear Regression"
   ]
  },
  {
   "cell_type": "code",
   "execution_count": 13,
   "metadata": {},
   "outputs": [
    {
     "name": "stdout",
     "output_type": "stream",
     "text": [
      "The correlation coefficient: -0.88.\n"
     ]
    },
    {
     "data": {
      "image/png": "[encoded data removed]",
      "text/plain": [
       "<Figure size 432x288 with 1 Axes>"
      ]
     },
     "metadata": {
      "needs_background": "light"
     },
     "output_type": "display_data"
    },
    {
     "name": "stdout",
     "output_type": "stream",
     "text": [
      "The linear regression shows that there is a negative correlation coefficient present in the northern hemisphere.\n",
      "Temperatures drop as we move away from the equator.\n",
      "There is a strong relation between temperature and latitude.\n"
     ]
    }
   ],
   "source": [
    "x_axis = northern_hemisphere_df[\"Lat\"]\n",
    "y_axis = northern_hemisphere_df[\"Max Temp\"]\n",
    "line_equation = linearRegressionFunc(x_axis, y_axis)\n",
    "\n",
    "plt.annotate(line_equation, (0, 0), color=\"red\")\n",
    "plt.title(\"Northern Hemisphere - Max Temp (F) vs. Latitude Linear Regression\")\n",
    "plt.ylabel(\"Max Temp (F)\")\n",
    "plt.xlabel(\"Latitude\")\n",
    "plt.savefig(\"output_data/northern_maxtemp_vs_lat.png\")\n",
    "plt.show()\n",
    "\n",
    "print(f\"The linear regression shows that there is a negative correlation coefficient present in the northern hemisphere.\")\n",
    "print(f\"Temperatures drop as we move away from the equator.\")\n",
    "print(f\"There is a strong relation between temperature and latitude.\")"
   ]
  },
  {
   "cell_type": "markdown",
   "metadata": {},
   "source": [
    "####  Southern Hemisphere - Max Temp vs. Latitude Linear Regression"
   ]
  },
  {
   "cell_type": "code",
   "execution_count": 14,
   "metadata": {},
   "outputs": [
    {
     "name": "stdout",
     "output_type": "stream",
     "text": [
      "The correlation coefficient: 0.79.\n"
     ]
    },
    {
     "data": {
      "image/png": "[encoded data removed]",
      "text/plain": [
       "<Figure size 432x288 with 1 Axes>"
      ]
     },
     "metadata": {
      "needs_background": "light"
     },
     "output_type": "display_data"
    },
    {
     "name": "stdout",
     "output_type": "stream",
     "text": [
      "The linear regression shows that there is a positive correlation coefficient present in the southern hemisphere.\n",
      "Temperatures increase as we move closer to the equator.\n",
      "There is a strong relation between temperature and latitude.\n",
      "Both Southern and Northern have fairly strong relationship.\n"
     ]
    }
   ],
   "source": [
    "x_axis = southern_hemisphere_df[\"Lat\"]\n",
    "y_axis = southern_hemisphere_df[\"Max Temp\"]\n",
    "line_equation = linearRegressionFunc(x_axis, y_axis)\n",
    "\n",
    "plt.annotate(line_equation, (-55, 90), color=\"red\")\n",
    "plt.title(\"Southern Hemisphere - Max Temp (F) vs. Latitude Linear Regression\")\n",
    "plt.ylabel(\"Max Temp (F)\")\n",
    "plt.xlabel(\"Latitude\")\n",
    "plt.savefig(\"output_data/southern_maxtemp_vs_lat.png\")\n",
    "plt.show()\n",
    "\n",
    "print(f\"The linear regression shows that there is a positive correlation coefficient present in the southern hemisphere.\")\n",
    "print(f\"Temperatures increase as we move closer to the equator.\")\n",
    "print(f\"There is a strong relation between temperature and latitude.\")\n",
    "print(f\"Both Southern and Northern have fairly strong relationship.\")"
   ]
  },
  {
   "cell_type": "markdown",
   "metadata": {},
   "source": [
    "####  Northern Hemisphere - Humidity (%) vs. Latitude Linear Regression"
   ]
  },
  {
   "cell_type": "code",
   "execution_count": 15,
   "metadata": {},
   "outputs": [
    {
     "name": "stdout",
     "output_type": "stream",
     "text": [
      "The correlation coefficient: 0.18.\n",
      "There is a weak relationship between Humidity and Latitude, even though humidity rises as we move away from the equator.\n",
      "The correlation coefficient is small indicating almost no relationship.\n"
     ]
    },
    {
     "data": {
      "image/png": "[encoded data removed]",
      "text/plain": [
       "<Figure size 432x288 with 1 Axes>"
      ]
     },
     "metadata": {
      "needs_background": "light"
     },
     "output_type": "display_data"
    }
   ],
   "source": [
    "x_axis = northern_hemisphere_df[\"Lat\"]\n",
    "y_axis = northern_hemisphere_df[\"Humidity\"]\n",
    "line_equation = linearRegressionFunc(x_axis, y_axis)\n",
    "\n",
    "plt.annotate(line_equation, (55, 5), color=\"red\")\n",
    "plt.title(\"Northern Hemisphere - Humidity (%) vs. Latitude Linear Regression\")\n",
    "plt.ylabel(\"Humidity %\")\n",
    "plt.xlabel(\"Latitude\")\n",
    "plt.savefig(\"output_data/northern_humidity_vs_lat.png\")\n",
    "\n",
    "print(f\"There is a weak relationship between Humidity and Latitude, even though humidity rises as we move away from the equator.\")\n",
    "print(f\"The correlation coefficient is small indicating almost no relationship.\")\n",
    "\n",
    "plt.show()"
   ]
  },
  {
   "cell_type": "markdown",
   "metadata": {},
   "source": [
    "####  Southern Hemisphere - Humidity (%) vs. Latitude Linear Regression"
   ]
  },
  {
   "cell_type": "code",
   "execution_count": 16,
   "metadata": {},
   "outputs": [
    {
     "name": "stdout",
     "output_type": "stream",
     "text": [
      "The correlation coefficient: 0.11.\n"
     ]
    },
    {
     "data": {
      "image/png": "[encoded data removed]",
      "text/plain": [
       "<Figure size 432x288 with 1 Axes>"
      ]
     },
     "metadata": {
      "needs_background": "light"
     },
     "output_type": "display_data"
    },
    {
     "name": "stdout",
     "output_type": "stream",
     "text": [
      "There is almost no relationship between Humidity and Latitude in the Southern Hemisphere.\n",
      "The correlation coefficient is close to 0 indicating no relationship.\n"
     ]
    }
   ],
   "source": [
    "x_axis = southern_hemisphere_df[\"Lat\"]\n",
    "y_axis = southern_hemisphere_df[\"Humidity\"]\n",
    "line_equation = linearRegressionFunc(x_axis, y_axis)\n",
    "\n",
    "plt.annotate(line_equation, (-55, 25), color=\"red\")\n",
    "plt.title(\"Southern Hemisphere - Humidity (%) vs. Latitude Linear Regression\")\n",
    "plt.ylabel(\"Humidity %\")\n",
    "plt.xlabel(\"Latitude\")\n",
    "plt.savefig(\"output_data/southern_humidity_vs_lat.png\")\n",
    "plt.show()\n",
    "\n",
    "print(f\"There is almost no relationship between Humidity and Latitude in the Southern Hemisphere.\")\n",
    "print(f\"The correlation coefficient is close to 0 indicating no relationship.\")"
   ]
  },
  {
   "cell_type": "markdown",
   "metadata": {},
   "source": [
    "####  Northern Hemisphere - Cloudiness (%) vs. Latitude Linear Regression"
   ]
  },
  {
   "cell_type": "code",
   "execution_count": 17,
   "metadata": {},
   "outputs": [
    {
     "name": "stdout",
     "output_type": "stream",
     "text": [
      "The correlation coefficient: 0.13.\n"
     ]
    },
    {
     "data": {
      "image/png": "[encoded data removed]",
      "text/plain": [
       "<Figure size 432x288 with 1 Axes>"
      ]
     },
     "metadata": {
      "needs_background": "light"
     },
     "output_type": "display_data"
    },
    {
     "name": "stdout",
     "output_type": "stream",
     "text": [
      "There is almost no relationship between Cloudiness and Latitude in the Northern Hemisphere.\n",
      "The correlation coefficient is close to 0 indicating no relationship.\n"
     ]
    }
   ],
   "source": [
    "x_axis = northern_hemisphere_df[\"Lat\"]\n",
    "y_axis = northern_hemisphere_df[\"Cloudiness\"]\n",
    "line_equation = linearRegressionFunc(x_axis, y_axis)\n",
    "\n",
    "plt.annotate(line_equation, (55, 5), color=\"red\")\n",
    "plt.title(\"Northern Hemisphere - Cloudiness (%) vs. Latitude Linear Regression\")\n",
    "plt.ylabel(\"Cloudiness %\")\n",
    "plt.xlabel(\"Latitude\")\n",
    "plt.savefig(\"output_data/northern_cloudiness_vs_lat.png\")\n",
    "plt.show()\n",
    "\n",
    "print(f\"There is almost no relationship between Cloudiness and Latitude in the Northern Hemisphere.\")\n",
    "print(f\"The correlation coefficient is close to 0 indicating no relationship.\")"
   ]
  },
  {
   "cell_type": "markdown",
   "metadata": {},
   "source": [
    "####  Southern Hemisphere - Cloudiness (%) vs. Latitude Linear Regression"
   ]
  },
  {
   "cell_type": "code",
   "execution_count": 18,
   "metadata": {},
   "outputs": [
    {
     "name": "stdout",
     "output_type": "stream",
     "text": [
      "The correlation coefficient: 0.0.\n"
     ]
    },
    {
     "data": {
      "image/png": "[encoded data removed]",
      "text/plain": [
       "<Figure size 432x288 with 1 Axes>"
      ]
     },
     "metadata": {
      "needs_background": "light"
     },
     "output_type": "display_data"
    },
    {
     "name": "stdout",
     "output_type": "stream",
     "text": [
      "There is almost no relationship between Cloudiness and Latitude in the Southern Hemisphere.\n",
      "Even though there exists an increase in cloudiness as we move closer to the equator, \n",
      "the correlation coefficient is close to 0 indicating no relationship.\n"
     ]
    }
   ],
   "source": [
    "x_axis = southern_hemisphere_df[\"Lat\"]\n",
    "y_axis = southern_hemisphere_df[\"Cloudiness\"]\n",
    "line_equation = linearRegressionFunc(x_axis, y_axis)\n",
    "\n",
    "plt.annotate(line_equation, (-55, 5), color=\"red\")\n",
    "plt.title(\"Southern Hemisphere - Cloudiness (%) vs. Latitude Linear Regression\")\n",
    "plt.ylabel(\"Cloudiness %\")\n",
    "plt.xlabel(\"Latitude\")\n",
    "plt.savefig(\"output_data/southern_cloudiness_vs_lat.png\")\n",
    "plt.show()\n",
    "\n",
    "print(f\"There is almost no relationship between Cloudiness and Latitude in the Southern Hemisphere.\")\n",
    "print(f\"Even though there exists an increase in cloudiness as we move closer to the equator, \")\n",
    "print(f\"the correlation coefficient is close to 0 indicating no relationship.\")\n"
   ]
  },
  {
   "cell_type": "markdown",
   "metadata": {},
   "source": [
    "####  Northern Hemisphere - Wind Speed (mph) vs. Latitude Linear Regression"
   ]
  },
  {
   "cell_type": "code",
   "execution_count": 19,
   "metadata": {},
   "outputs": [
    {
     "name": "stdout",
     "output_type": "stream",
     "text": [
      "The correlation coefficient: 0.11.\n"
     ]
    },
    {
     "data": {
      "image/png": "[encoded data removed]",
      "text/plain": [
       "<Figure size 432x288 with 1 Axes>"
      ]
     },
     "metadata": {
      "needs_background": "light"
     },
     "output_type": "display_data"
    },
    {
     "name": "stdout",
     "output_type": "stream",
     "text": [
      "There is no relationship between Wind Speed and Latitude in the Northern Hemisphere.\n",
      "the correlation coefficient is close to 0 indicating no relationship.\n"
     ]
    }
   ],
   "source": [
    "x_axis = northern_hemisphere_df[\"Lat\"]\n",
    "y_axis = northern_hemisphere_df[\"Wind Speed\"]\n",
    "line_equation = linearRegressionFunc(x_axis, y_axis)\n",
    "\n",
    "plt.annotate(line_equation, (55, 33), color=\"red\")\n",
    "plt.title(\"Northern Hemisphere - Wind Speed (mph) vs. Latitude Linear Regression\")\n",
    "plt.ylabel(\"Wind Speed (miles per hour)\")\n",
    "plt.xlabel(\"Latitude\")\n",
    "plt.savefig(\"output_data/northern_windspeed_vs_lat.png\")\n",
    "plt.show()\n",
    "\n",
    "print(f\"There is no relationship between Wind Speed and Latitude in the Northern Hemisphere.\")\n",
    "print(f\"the correlation coefficient is close to 0 indicating no relationship.\")"
   ]
  },
  {
   "cell_type": "markdown",
   "metadata": {},
   "source": [
    "####  Southern Hemisphere - Wind Speed (mph) vs. Latitude Linear Regression"
   ]
  },
  {
   "cell_type": "code",
   "execution_count": 20,
   "metadata": {},
   "outputs": [
    {
     "name": "stdout",
     "output_type": "stream",
     "text": [
      "The correlation coefficient: -0.23.\n"
     ]
    },
    {
     "data": {
      "image/png": "[encoded data removed]",
      "text/plain": [
       "<Figure size 432x288 with 1 Axes>"
      ]
     },
     "metadata": {
      "needs_background": "light"
     },
     "output_type": "display_data"
    },
    {
     "name": "stdout",
     "output_type": "stream",
     "text": [
      "There is no relationship between Wind Speed and Latitude in the Southern Hemisphere.\n",
      "the correlation coefficient is close to 0 indicating no relationship.\n"
     ]
    }
   ],
   "source": [
    "x_axis = southern_hemisphere_df[\"Lat\"]\n",
    "y_axis = southern_hemisphere_df[\"Wind Speed\"]\n",
    "line_equation = linearRegressionFunc(x_axis, y_axis)\n",
    "\n",
    "plt.annotate(line_equation, (-55, 25), color=\"red\")\n",
    "plt.title(\"Southern Hemisphere - Wind Speed (mph) vs. Latitude Linear Regression\")\n",
    "plt.ylabel(\"Wind Speed (miles per hour)\")\n",
    "plt.xlabel(\"Latitude\")\n",
    "plt.savefig(\"output_data/southern_windspeed_vs_lat.png\")\n",
    "plt.show()\n",
    "\n",
    "print(f\"There is no relationship between Wind Speed and Latitude in the Southern Hemisphere.\")\n",
    "print(f\"the correlation coefficient is close to 0 indicating no relationship.\")"
   ]
  },
  {
   "cell_type": "code",
   "execution_count": null,
   "metadata": {},
   "outputs": [],
   "source": []
  }
 ],
 "metadata": {
  "anaconda-cloud": {},
  "kernel_info": {
   "name": "python3"
  },
  "kernelspec": {
   "display_name": "Python [conda env:PythonData]",
   "language": "python",
   "name": "conda-env-PythonData-py"
  },
  "language_info": {
   "codemirror_mode": {
    "name": "ipython",
    "version": 3
   },
   "file_extension": ".py",
   "mimetype": "text/x-python",
   "name": "python",
   "nbconvert_exporter": "python",
   "pygments_lexer": "ipython3",
   "version": "3.8.8"
  },
  "latex_envs": {
   "LaTeX_envs_menu_present": true,
   "autoclose": false,
   "autocomplete": true,
   "bibliofile": "biblio.bib",
   "cite_by": "apalike",
   "current_citInitial": 1,
   "eqLabelWithNumbers": true,
   "eqNumInitial": 1,
   "hotkeys": {
    "equation": "Ctrl-E",
    "itemize": "Ctrl-I"
   },
   "labels_anchors": false,
   "latex_user_defs": false,
   "report_style_numbering": false,
   "user_envs_cfg": false
  },
  "nteract": {
   "version": "0.12.3"
  }
 },
 "nbformat": 4,
 "nbformat_minor": 2
}
